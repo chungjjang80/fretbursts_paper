{
 "cells": [
  {
   "cell_type": "code",
   "execution_count": null,
   "metadata": {
    "collapsed": false
   },
   "outputs": [],
   "source": [
    "from fretbursts import *"
   ]
  },
  {
   "cell_type": "code",
   "execution_count": null,
   "metadata": {
    "collapsed": false
   },
   "outputs": [],
   "source": [
    "sns = init_notebook(fs=13, savefig_dpi=75)"
   ]
  },
  {
   "cell_type": "code",
   "execution_count": null,
   "metadata": {
    "collapsed": false
   },
   "outputs": [],
   "source": [
    "sns.palplot(sns.colors)"
   ]
  },
  {
   "cell_type": "code",
   "execution_count": null,
   "metadata": {
    "collapsed": false
   },
   "outputs": [],
   "source": [
    "figure_size = (5, 4)\n",
    "default_figure = lambda: plt.subplots(figsize=figure_size)"
   ]
  },
  {
   "cell_type": "code",
   "execution_count": null,
   "metadata": {
    "collapsed": true
   },
   "outputs": [],
   "source": [
    "def savefig(filename, **kwargs):\n",
    "    import os\n",
    "    name, extension = os.path.splitext(os.path.basename(filename))\n",
    "    dir_ = 'figures/%s/' % name\n",
    "    kwargs_ = dict(dpi=150, bbox_inches='tight', \n",
    "                   frameon=True, facecolor='white', transparent=False)\n",
    "    kwargs_.update(kwargs)\n",
    "    plt.savefig(dir_ + name + extension, **kwargs_)"
   ]
  },
  {
   "cell_type": "markdown",
   "metadata": {},
   "source": [
    "# ALEX Histogram"
   ]
  },
  {
   "cell_type": "code",
   "execution_count": null,
   "metadata": {
    "collapsed": false
   },
   "outputs": [],
   "source": [
    "#OpenFileDialog(r'C:/dfsd')"
   ]
  },
  {
   "cell_type": "code",
   "execution_count": null,
   "metadata": {
    "collapsed": false
   },
   "outputs": [],
   "source": [
    "import os\n",
    "nb_dir = '/Users/anto/Google Drive/notebooks/'\n",
    "#data_dir = 'C:\\\\Data\\\\Antonio\\\\data\\\\8-spot 5samples data\\\\2012-11-26\\\\'\n",
    "data_dir = nb_dir + 'multispot/8spot_paper/data/2012-11-26'\n",
    "\n",
    "data_dir = os.path.abspath(data_dir) + '/'\n",
    "assert os.path.exists(data_dir), \"Path '%s' does not exist.\" % data_dir"
   ]
  },
  {
   "cell_type": "code",
   "execution_count": null,
   "metadata": {
    "collapsed": false
   },
   "outputs": [],
   "source": [
    "from glob import glob\n",
    "file_list = sorted(f for f in glob(data_dir + '*.hdf5') if '_BKG' not in f)\n",
    "file_list"
   ]
  },
  {
   "cell_type": "code",
   "execution_count": null,
   "metadata": {
    "collapsed": false
   },
   "outputs": [],
   "source": [
    "## Selection for POLIMI 2012-11-26 datatset\n",
    "labels = ['17d', '27d', '7d', '12d', '22d']\n",
    "files_dict = {lab: fname for lab, fname in zip(labels, file_list)}\n",
    "\n",
    "file_name = files_dict['27d']\n",
    "file_name"
   ]
  },
  {
   "cell_type": "code",
   "execution_count": null,
   "metadata": {
    "collapsed": true
   },
   "outputs": [],
   "source": [
    "import phconvert as phc"
   ]
  },
  {
   "cell_type": "code",
   "execution_count": null,
   "metadata": {
    "collapsed": false
   },
   "outputs": [],
   "source": [
    "phc.hdf5._check_version(files_dict['17d'])"
   ]
  },
  {
   "cell_type": "code",
   "execution_count": null,
   "metadata": {
    "collapsed": false
   },
   "outputs": [],
   "source": [
    "d = loader.photon_hdf5(file_name)"
   ]
  },
  {
   "cell_type": "code",
   "execution_count": null,
   "metadata": {
    "collapsed": false
   },
   "outputs": [],
   "source": [
    "fig, ax = default_figure()\n",
    "bpl.plot_alternation_hist(d, ax=ax, hist_style={'histtype': 'step', 'lw': 2, 'alpha': 0.9})\n",
    "plt.legend(bbox_to_anchor=(-0.04, 1.15), loc='upper left', ncol=2, fontsize=12)\n",
    "plt.title('')\n",
    "sns.despine()\n",
    "savefig('usALEX_alternation_hist.png')"
   ]
  },
  {
   "cell_type": "code",
   "execution_count": null,
   "metadata": {
    "collapsed": false
   },
   "outputs": [],
   "source": [
    "#loader.usalex_apply_period(d)"
   ]
  },
  {
   "cell_type": "code",
   "execution_count": null,
   "metadata": {
    "collapsed": true
   },
   "outputs": [],
   "source": [
    "filename_nsalex = nb_dir + 'photon-hdf5/data/eitan/dsdna_d7+d17_50_50_1.hdf5'"
   ]
  },
  {
   "cell_type": "code",
   "execution_count": null,
   "metadata": {
    "collapsed": false
   },
   "outputs": [],
   "source": [
    "filename_nsalex"
   ]
  },
  {
   "cell_type": "code",
   "execution_count": null,
   "metadata": {
    "collapsed": true
   },
   "outputs": [],
   "source": [
    "dns = loader.photon_hdf5(filename_nsalex)"
   ]
  },
  {
   "cell_type": "code",
   "execution_count": null,
   "metadata": {
    "collapsed": false
   },
   "outputs": [],
   "source": [
    "fig, ax = default_figure()\n",
    "bpl.plot_alternation_hist(dns, ax=ax)\n",
    "plt.legend(bbox_to_anchor=(-0.04, 1.15), loc='upper left', ncol=2, fontsize=12)\n",
    "plt.title('')\n",
    "sns.despine()\n",
    "#savefig('usALEX_alternation_hist.png')"
   ]
  },
  {
   "cell_type": "code",
   "execution_count": null,
   "metadata": {
    "collapsed": false
   },
   "outputs": [],
   "source": [
    "fig, ax = plt.subplots(1, 2, figsize=(11, 4))\n",
    "bpl.plot_alternation_hist(d, ax=ax[0], hist_style={'histtype': 'step', 'lw': 2, 'alpha': 0.9})\n",
    "ax[0].legend(bbox_to_anchor=(-0.04, 1.15), loc='upper left', ncol=2, fontsize=12)\n",
    "ax[0].set_title('')\n",
    "ax[0].set_ylabel('# Photons')\n",
    "\n",
    "bpl.plot_alternation_hist(dns, ax=ax[1])\n",
    "ax[1].legend(bbox_to_anchor=(-0.04, 1.15), loc='upper left', ncol=2, fontsize=12)\n",
    "ax[1].set_title('')\n",
    "for a, label in zip(ax, ['a', 'b']):\n",
    "    a.set_xticks(np.arange(0, 4500, 1000))\n",
    "    a.text(0.5, -0.26, '(%s)' % label, transform=a.transAxes, fontsize=16,\n",
    "           horizontalalignment='center',)\n",
    "\n",
    "savefig('ALEX_alternation_double.png')"
   ]
  }
 ],
 "metadata": {
  "kernelspec": {
   "display_name": "Python 3",
   "language": "python",
   "name": "python3"
  },
  "language_info": {
   "codemirror_mode": {
    "name": "ipython",
    "version": 3
   },
   "file_extension": ".py",
   "mimetype": "text/x-python",
   "name": "python",
   "nbconvert_exporter": "python",
   "pygments_lexer": "ipython3",
   "version": "3.5.1"
  }
 },
 "nbformat": 4,
 "nbformat_minor": 0
}
