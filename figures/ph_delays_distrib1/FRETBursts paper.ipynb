{
 "metadata": {
  "name": "",
  "signature": "sha256:4a46bf761f0ab6b88cc8809c504b30cd332392f7eadbabd30470c4d4d4a6f671"
 },
 "nbformat": 3,
 "nbformat_minor": 0,
 "worksheets": [
  {
   "cells": [
    {
     "cell_type": "code",
     "collapsed": false,
     "input": [
      "%run load_fretbursts.py --nogui --source"
     ],
     "language": "python",
     "metadata": {},
     "outputs": [
      {
       "output_type": "stream",
       "stream": "stdout",
       "text": [
        " - Optimized (cython) burst search loaded.\n",
        " - Optimized (cython) photon counting loaded.\n",
        "\n",
        "FRETBursts revision:\n",
        " 2014-12-05 716ec38 Docs: Fix links in notebook\n"
       ]
      },
      {
       "output_type": "stream",
       "stream": "stdout",
       "text": [
        "\n",
        "\n",
        "WARNING -> Uncommitted changes:\n",
        " M fretbursts/burst_plot.py\n",
        " M \"notebooks/FRETBursts - us-ALEX smFRET burst analysis.ipynb\"\n",
        "?? docs/source/load_data.rst\n",
        "?? notebooks/FRETBursts - us-ALEX smFRET burst analysis-Copy0.ipynb\n"
       ]
      },
      {
       "output_type": "stream",
       "stream": "stdout",
       "text": [
        "\n",
        "-------------------------------------------------------------\n",
        " You are running FRETBursts, a software for smFRET analysis. \n",
        "\n",
        " If you use this software in a publication, please cite it as:\n",
        "\n",
        "   FRETBursts - An opensource single-molecule FRET burst analysis toolkit.\n",
        "   A. Ingargiola 2014. https://github.com/tritemio/FRETBursts\n",
        "\n",
        "-------------------------------------------------------------\n"
       ]
      }
     ],
     "prompt_number": 1
    },
    {
     "cell_type": "code",
     "collapsed": false,
     "input": [
      "url = 'http://files.figshare.com/1643813/0023uLRpitc_NTP_20dT_0.5GndCl.hdf5'\n",
      "from fretbursts.utils.misc import download_file\n",
      "download_file(url, save_dir='./data')"
     ],
     "language": "python",
     "metadata": {},
     "outputs": [
      {
       "output_type": "stream",
       "stream": "stdout",
       "text": [
        "URL:  http://files.figshare.com/1643813/0023uLRpitc_NTP_20dT_0.5GndCl.hdf5\n",
        "File: 0023uLRpitc_NTP_20dT_0.5GndCl.hdf5\n",
        " \n",
        "File already on disk: C:\\Data\\Antonio\\software\\Dropbox\\notebooks\\frebursts_notebooks\\data/0023uLRpitc_NTP_20dT_0.5GndCl.hdf5 \n",
        "Delete it to re-download.\n"
       ]
      }
     ],
     "prompt_number": 2
    },
    {
     "cell_type": "code",
     "collapsed": false,
     "input": [
      "file_name = \"./data/0023uLRpitc_NTP_20dT_0.5GndCl.hdf5\"\n",
      "file_name\n"
     ],
     "language": "python",
     "metadata": {},
     "outputs": [
      {
       "metadata": {},
       "output_type": "pyout",
       "prompt_number": 7,
       "text": [
        "'./data/0023uLRpitc_NTP_20dT_0.5GndCl.hdf5'"
       ]
      }
     ],
     "prompt_number": 7
    },
    {
     "cell_type": "code",
     "collapsed": false,
     "input": [
      "d = loader.hdf5(fname=file_name)"
     ],
     "language": "python",
     "metadata": {},
     "outputs": [],
     "prompt_number": 9
    },
    {
     "cell_type": "code",
     "collapsed": false,
     "input": [
      "bpl.plot_alternation_hist(d)\n",
      "loader.usalex_apply_period(d)"
     ],
     "language": "python",
     "metadata": {},
     "outputs": [
      {
       "output_type": "stream",
       "stream": "stdout",
       "text": [
        "#donor: 726562  #acceptor: 1564959 \n",
        "\n"
       ]
      },
      {
       "metadata": {},
       "output_type": "pyout",
       "prompt_number": 10,
       "text": [
        "data_0023uLRpitc_NTP_20dT_0.5GndCl G1.000"
       ]
      },
      {
       "metadata": {},
       "output_type": "display_data",
       "png": "[encoded data removed]",
       "text": [
        "<matplotlib.figure.Figure at 0x1ac63f98>"
       ]
      }
     ],
     "prompt_number": 10
    },
    {
     "cell_type": "code",
     "collapsed": false,
     "input": [
      "d.calc_bg(bg.exp_fit, time_s=1000, tail_min_us='auto', F_bg=1.7)"
     ],
     "language": "python",
     "metadata": {},
     "outputs": [
      {
       "output_type": "stream",
       "stream": "stdout",
       "text": [
        " - Calculating BG rates ... "
       ]
      },
      {
       "output_type": "stream",
       "stream": "stdout",
       "text": [
        "[DONE]\n"
       ]
      }
     ],
     "prompt_number": 14
    },
    {
     "cell_type": "code",
     "collapsed": false,
     "input": [
      "import seaborn as sns"
     ],
     "language": "python",
     "metadata": {},
     "outputs": [],
     "prompt_number": 15
    },
    {
     "cell_type": "code",
     "collapsed": false,
     "input": [
      "fs = 13\n",
      "rc={'font.size': fs, 'axes.labelsize': fs, 'legend.fontsize': fs, \n",
      "    'axes.titlesize': fs*1.1, 'xtick.labelsize': fs, 'ytick.labelsize': fs,\n",
      "    'savefig.dpi': 75, #'figure.figsize': (6, 4),\n",
      "}\n",
      "sns.set(rc=rc)\n",
      "sns.set_style('dark')"
     ],
     "language": "python",
     "metadata": {},
     "outputs": [],
     "prompt_number": 30
    },
    {
     "cell_type": "code",
     "collapsed": false,
     "input": [
      "fig, ax = plt.subplots(figsize=(5,4))\n",
      "dplot(d, hist_bg_single, tmax=20e-3, ph_sel=Ph_sel(Dex='Aem'), ax=ax)\n",
      "plt.xlim(0, 15)\n",
      "plt.savefig('ph_delays_distrib.png', dpi=150, bbox_inches='tight')"
     ],
     "language": "python",
     "metadata": {},
     "outputs": [
      {
       "metadata": {},
       "output_type": "display_data",
       "png": "[encoded data removed]",
       "text": [
        "<matplotlib.figure.Figure at 0x1778b8d0>"
       ]
      }
     ],
     "prompt_number": 31
    },
    {
     "cell_type": "code",
     "collapsed": false,
     "input": [],
     "language": "python",
     "metadata": {},
     "outputs": []
    }
   ],
   "metadata": {}
  }
 ]
}