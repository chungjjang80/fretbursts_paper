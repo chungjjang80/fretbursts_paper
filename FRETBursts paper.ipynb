{
 "cells": [
  {
   "cell_type": "markdown",
   "metadata": {},
   "source": [
    "# Figures and Code for FRETBursts Paper\n",
    "\n",
    "*This notebook generates the figures for the paper **FRETBursts: Open Source Burst Analysis Toolkit for Confocal Single-Molecule FRET** The sections here are named after sections of the paper.*"
   ]
  },
  {
   "cell_type": "code",
   "execution_count": null,
   "metadata": {
    "collapsed": false
   },
   "outputs": [],
   "source": [
    "from fretbursts import *\n",
    "import phconvert as phc\n",
    "print('phconvert: ', phc.__version__)"
   ]
  },
  {
   "cell_type": "code",
   "execution_count": null,
   "metadata": {
    "collapsed": false
   },
   "outputs": [],
   "source": [
    "sns = init_notebook(fs=13, savefig_dpi=75)"
   ]
  },
  {
   "cell_type": "code",
   "execution_count": null,
   "metadata": {
    "collapsed": false
   },
   "outputs": [],
   "source": [
    "sns.palplot(sns.colors)"
   ]
  },
  {
   "cell_type": "code",
   "execution_count": null,
   "metadata": {
    "collapsed": true
   },
   "outputs": [],
   "source": [
    "blue, red, green, purple, orange = sns.colors[:5]"
   ]
  },
  {
   "cell_type": "code",
   "execution_count": null,
   "metadata": {
    "collapsed": false
   },
   "outputs": [],
   "source": [
    "figure_size = (5, 4)\n",
    "default_figure = lambda: plt.subplots(figsize=figure_size)\n",
    "save_figures = True"
   ]
  },
  {
   "cell_type": "code",
   "execution_count": null,
   "metadata": {
    "collapsed": true
   },
   "outputs": [],
   "source": [
    "def savefig(filename, **kwargs):\n",
    "    if not save_figures:\n",
    "        return\n",
    "    import os\n",
    "    name, extension = os.path.splitext(os.path.basename(filename))\n",
    "    dir_ = 'figures/%s/' % name\n",
    "    kwargs_ = dict(dpi=150, bbox_inches='tight', \n",
    "                   frameon=True, facecolor='white', transparent=False)\n",
    "    kwargs_.update(kwargs)\n",
    "    plt.savefig(dir_ + name + extension, **kwargs_)"
   ]
  },
  {
   "cell_type": "markdown",
   "metadata": {},
   "source": [
    "# Data Load"
   ]
  },
  {
   "cell_type": "code",
   "execution_count": null,
   "metadata": {
    "collapsed": false
   },
   "outputs": [],
   "source": [
    "url = 'http://files.figshare.com/2182601/0023uLRpitc_NTP_20dT_0.5GndCl.hdf5'\n",
    "download_file(url, save_dir='./data')"
   ]
  },
  {
   "cell_type": "code",
   "execution_count": null,
   "metadata": {
    "collapsed": false
   },
   "outputs": [],
   "source": [
    "file_name = './data/' + url.split('/')[-1]\n",
    "file_name"
   ]
  },
  {
   "cell_type": "code",
   "execution_count": null,
   "metadata": {
    "collapsed": true
   },
   "outputs": [],
   "source": [
    "import os\n",
    "from glob import glob"
   ]
  },
  {
   "cell_type": "code",
   "execution_count": null,
   "metadata": {
    "collapsed": false
   },
   "outputs": [],
   "source": [
    "nb_dir = '/Users/anto/Google Drive/notebooks/'\n",
    "data_dir = nb_dir + 'multispot/8spot_paper/data/2012-11-26/'\n",
    "\n",
    "data_dir = os.path.abspath(data_dir) + '/'\n",
    "assert os.path.exists(data_dir), \"Path '%s' does not exist.\" % data_dir\n",
    "\n",
    "file_list = sorted(f for f in glob(data_dir + '*.hdf5') if '_BKG' not in f)\n",
    "file_list\n",
    "\n",
    "labels = ['17d']#, '27d', '7d', '12d', '22d']\n",
    "files_dict = {lab: fname for lab, fname in zip(labels, file_list)}\n",
    "files_dict"
   ]
  },
  {
   "cell_type": "code",
   "execution_count": null,
   "metadata": {
    "collapsed": false
   },
   "outputs": [],
   "source": [
    "phc.hdf5._check_version(files_dict['17d'])"
   ]
  },
  {
   "cell_type": "code",
   "execution_count": null,
   "metadata": {
    "collapsed": false
   },
   "outputs": [],
   "source": [
    "dd = {k: loader.photon_hdf5(v) for k, v in files_dict.items()}\n",
    "for d in dd.values():\n",
    "    loader.usalex_apply_period(d)\n",
    "    d.calc_bg(bg.exp_fit, time_s=30, tail_min_us='auto', F_bg=1.7)"
   ]
  },
  {
   "cell_type": "code",
   "execution_count": null,
   "metadata": {
    "collapsed": false
   },
   "outputs": [],
   "source": [
    "dd.keys()"
   ]
  },
  {
   "cell_type": "code",
   "execution_count": null,
   "metadata": {
    "collapsed": false
   },
   "outputs": [],
   "source": [
    "d = loader.photon_hdf5(file_name)"
   ]
  },
  {
   "cell_type": "code",
   "execution_count": null,
   "metadata": {
    "collapsed": false
   },
   "outputs": [],
   "source": [
    "#bpl.plot_alternation_hist(d)\n",
    "loader.usalex_apply_period(d)"
   ]
  },
  {
   "cell_type": "markdown",
   "metadata": {},
   "source": [
    "# smFRET Burst Analysis\n",
    "\n",
    "## Background Estimation"
   ]
  },
  {
   "cell_type": "code",
   "execution_count": null,
   "metadata": {
    "collapsed": false
   },
   "outputs": [],
   "source": [
    "d.calc_bg(bg.exp_fit, time_s=20, tail_min_us='auto', F_bg=1.7)"
   ]
  },
  {
   "cell_type": "code",
   "execution_count": null,
   "metadata": {
    "collapsed": false
   },
   "outputs": [],
   "source": [
    "fig, ax = plt.subplots(1, 2, figsize=(figure_size[0]*2, figure_size[1]), sharey=True)\n",
    "\n",
    "dplot(d, hist_bg_single, tmax=20e-3, ph_sel=Ph_sel(Dex='Aem'), ax=ax[0],\n",
    "      plot_style=dict(alpha=0.8),\n",
    "      fit_style=dict(color='k'))\n",
    "ax[0].legend(['Experim. distrib.', 'Exponential fit'])\n",
    "\n",
    "dplot(d, hist_bg, ax=ax[1], \n",
    "      fit_style=dict(lw=3),\n",
    "      plot_style=dict(label=None))\n",
    "#plt.legend(bbox_to_anchor=(1.04, 0.9), loc=2, fontsize=12)\n",
    "ax[0].set_title('(a)')\n",
    "ax[1].set_title('(b)')\n",
    "savefig('ph_delays_distrib_all.png')"
   ]
  },
  {
   "cell_type": "code",
   "execution_count": null,
   "metadata": {
    "collapsed": false
   },
   "outputs": [],
   "source": [
    "fig, ax = plt.subplots(1, 2, figsize=(figure_size[0]*2, figure_size[1]), sharey=True)\n",
    "\n",
    "dplot(d, timetrace_bg, ax=ax[0])\n",
    "dplot(dd['17d'], timetrace_bg, ax=ax[1])\n",
    "\n",
    "plt.legend(['All-ph', 'DexDem', 'DexAem', 'AexAem'],\n",
    "           #bbox_to_anchor=(1.04, 0.9), \n",
    "           ncol=2, loc='upper left', fontsize=12)\n",
    "\n",
    "ax[0].legend([])\n",
    "ax[0].set_ylim(0, 5)\n",
    "ax[1].set_ylabel('')\n",
    "ax[0].set_title('(a)')\n",
    "ax[1].set_title('(b)')\n",
    "savefig('background_timetrace')"
   ]
  },
  {
   "cell_type": "markdown",
   "metadata": {},
   "source": [
    "# Burst Search"
   ]
  },
  {
   "cell_type": "code",
   "execution_count": null,
   "metadata": {
    "collapsed": false
   },
   "outputs": [],
   "source": [
    "d.burst_search()"
   ]
  },
  {
   "cell_type": "markdown",
   "metadata": {},
   "source": [
    "# Burst Selection"
   ]
  },
  {
   "cell_type": "markdown",
   "metadata": {},
   "source": [
    "## Select the FRET Populations"
   ]
  },
  {
   "cell_type": "code",
   "execution_count": null,
   "metadata": {
    "collapsed": false
   },
   "outputs": [],
   "source": [
    "ds = d.select_bursts(select_bursts.size, th1=15)\n",
    "ds2 = ds.select_bursts(select_bursts.naa, th1=15)"
   ]
  },
  {
   "cell_type": "code",
   "execution_count": null,
   "metadata": {
    "collapsed": false
   },
   "outputs": [],
   "source": [
    "sns.palplot(sns.color_palette('RdYlBu_r', 12))"
   ]
  },
  {
   "cell_type": "code",
   "execution_count": null,
   "metadata": {
    "collapsed": false,
    "scrolled": false
   },
   "outputs": [],
   "source": [
    "for cmap in ['YlGnBu_r', 'RdYlBu_r', 'Spectral_r', 'viridis']:\n",
    "    plt.figure()\n",
    "    c = sns.color_palette(cmap, 12)[1]\n",
    "    g = alex_jointplot(ds, cmap=cmap,\n",
    "                       marginal_kws=dict(hist_bar_style=dict(facecolor=c, edgecolor='k', linewidth=0.2)));\n",
    "    g.ax_joint.text(-0.1, 1.1, cmap)\n",
    "    savefig"
   ]
  },
  {
   "cell_type": "code",
   "execution_count": null,
   "metadata": {
    "collapsed": false
   },
   "outputs": [],
   "source": [
    "cmap = 'RdYlBu_r' #'Spectral_r'\n",
    "c = sns.color_palette(cmap, 12)[1]\n",
    "kwargs = dict(cmap=cmap, \n",
    "              marginal_kws=dict(hist_bar_style=dict(facecolor=c, edgecolor='k', linewidth=0.2)))\n",
    "alex_jointplot(ds, **kwargs)\n",
    "alex_jointplot(ds2,**kwargs)"
   ]
  },
  {
   "cell_type": "markdown",
   "metadata": {},
   "source": [
    "## Population Analysis"
   ]
  },
  {
   "cell_type": "code",
   "execution_count": null,
   "metadata": {
    "collapsed": true
   },
   "outputs": [],
   "source": [
    "E_fitter = bext.bursts_fitter(ds2, 'E')"
   ]
  },
  {
   "cell_type": "code",
   "execution_count": null,
   "metadata": {
    "collapsed": false
   },
   "outputs": [],
   "source": [
    "id(E_fitter), id(ds2.E_fitter)"
   ]
  },
  {
   "cell_type": "code",
   "execution_count": null,
   "metadata": {
    "collapsed": true
   },
   "outputs": [],
   "source": [
    "E_fitter.fit_histogram(model=mfit.factory_two_gaussians(), verbose=False)"
   ]
  },
  {
   "cell_type": "code",
   "execution_count": null,
   "metadata": {
    "collapsed": false
   },
   "outputs": [],
   "source": [
    "fit_res = ds2.E_fitter.fit_res[0]\n",
    "print(fit_res.fit_report())"
   ]
  },
  {
   "cell_type": "code",
   "execution_count": null,
   "metadata": {
    "collapsed": false
   },
   "outputs": [],
   "source": [
    "fit_res.aic"
   ]
  },
  {
   "cell_type": "code",
   "execution_count": null,
   "metadata": {
    "collapsed": false
   },
   "outputs": [],
   "source": [
    "fit_res.bic"
   ]
  },
  {
   "cell_type": "code",
   "execution_count": null,
   "metadata": {
    "collapsed": false
   },
   "outputs": [],
   "source": [
    "fit_res.redchi"
   ]
  },
  {
   "cell_type": "code",
   "execution_count": null,
   "metadata": {
    "collapsed": false
   },
   "outputs": [],
   "source": [
    "fit_res.plot_residuals()\n",
    "fit_res.plot_fit()\n",
    "plt.ylim(-0.5,3);"
   ]
  },
  {
   "cell_type": "code",
   "execution_count": null,
   "metadata": {
    "collapsed": false
   },
   "outputs": [],
   "source": [
    "fig.axes"
   ]
  },
  {
   "cell_type": "code",
   "execution_count": null,
   "metadata": {
    "collapsed": false
   },
   "outputs": [],
   "source": [
    "sns.palplot(sns.colors)"
   ]
  },
  {
   "cell_type": "code",
   "execution_count": null,
   "metadata": {
    "collapsed": false
   },
   "outputs": [],
   "source": [
    "sns.palplot(sns.color_palette('Blues', 12))"
   ]
  },
  {
   "cell_type": "code",
   "execution_count": null,
   "metadata": {
    "collapsed": false
   },
   "outputs": [],
   "source": [
    "fig, ax = default_figure()\n",
    "\n",
    "cmap = 'Blues' #'Spectral_r'\n",
    "c = sns.color_palette(cmap, 12)[-5]\n",
    "\n",
    "dplot(ds2, hist_fret, show_model=True, ax=ax, \n",
    "      hist_bar_style=dict(facecolor=c, edgecolor='k', linewidth=0.3))\n",
    "ax.set_title('')\n",
    "ax.set_xlim(0, 1.1)"
   ]
  }
 ],
 "metadata": {
  "kernelspec": {
   "display_name": "Python 3",
   "language": "python",
   "name": "python3"
  },
  "language_info": {
   "codemirror_mode": {
    "name": "ipython",
    "version": 3
   },
   "file_extension": ".py",
   "mimetype": "text/x-python",
   "name": "python",
   "nbconvert_exporter": "python",
   "pygments_lexer": "ipython3",
   "version": "3.5.1"
  }
 },
 "nbformat": 4,
 "nbformat_minor": 0
}
