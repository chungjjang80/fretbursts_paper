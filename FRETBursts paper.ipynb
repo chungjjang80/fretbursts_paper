{
 "cells": [
  {
   "cell_type": "code",
   "execution_count": null,
   "metadata": {
    "collapsed": false
   },
   "outputs": [],
   "source": [
    "from fretbursts import *\n",
    "import phconvert as phc\n",
    "print('phconvert: ', phc.__version__)"
   ]
  },
  {
   "cell_type": "code",
   "execution_count": null,
   "metadata": {
    "collapsed": false
   },
   "outputs": [],
   "source": [
    "sns = init_notebook(fs=13, savefig_dpi=75)"
   ]
  },
  {
   "cell_type": "code",
   "execution_count": null,
   "metadata": {
    "collapsed": false
   },
   "outputs": [],
   "source": [
    "sns.palplot(sns.colors)"
   ]
  },
  {
   "cell_type": "code",
   "execution_count": null,
   "metadata": {
    "collapsed": false
   },
   "outputs": [],
   "source": [
    "figure_size = (5, 4)\n",
    "default_figure = lambda: plt.subplots(figsize=figure_size)\n",
    "save_figures = False"
   ]
  },
  {
   "cell_type": "code",
   "execution_count": null,
   "metadata": {
    "collapsed": true
   },
   "outputs": [],
   "source": [
    "def savefig(filename, **kwargs):\n",
    "    if not save_figures:\n",
    "        return\n",
    "    import os\n",
    "    name, extension = os.path.splitext(os.path.basename(filename))\n",
    "    dir_ = 'figures/%s/' % name\n",
    "    kwargs_ = dict(dpi=150, bbox_inches='tight', \n",
    "                   frameon=True, facecolor='white', transparent=False)\n",
    "    kwargs_.update(kwargs)\n",
    "    plt.savefig(dir_ + name + extension, **kwargs_)"
   ]
  },
  {
   "cell_type": "markdown",
   "metadata": {},
   "source": [
    "# ALEX"
   ]
  },
  {
   "cell_type": "code",
   "execution_count": null,
   "metadata": {
    "collapsed": false
   },
   "outputs": [],
   "source": [
    "url = 'http://files.figshare.com/2182601/0023uLRpitc_NTP_20dT_0.5GndCl.hdf5'\n",
    "download_file(url, save_dir='./data')"
   ]
  },
  {
   "cell_type": "code",
   "execution_count": null,
   "metadata": {
    "collapsed": false
   },
   "outputs": [],
   "source": [
    "file_name = './data/' + url.split('/')[-1]\n",
    "file_name"
   ]
  },
  {
   "cell_type": "code",
   "execution_count": null,
   "metadata": {
    "collapsed": false
   },
   "outputs": [],
   "source": [
    "phc.hdf5._check_version(file_name)"
   ]
  },
  {
   "cell_type": "code",
   "execution_count": null,
   "metadata": {
    "collapsed": false
   },
   "outputs": [],
   "source": [
    "d = loader.photon_hdf5(file_name)"
   ]
  },
  {
   "cell_type": "code",
   "execution_count": null,
   "metadata": {
    "collapsed": false
   },
   "outputs": [],
   "source": [
    "bpl.plot_alternation_hist(d)\n",
    "loader.usalex_apply_period(d)"
   ]
  },
  {
   "cell_type": "code",
   "execution_count": null,
   "metadata": {
    "collapsed": false
   },
   "outputs": [],
   "source": [
    "d.calc_bg(bg.exp_fit, time_s=20, tail_min_us='auto', F_bg=1.7)"
   ]
  },
  {
   "cell_type": "code",
   "execution_count": null,
   "metadata": {
    "collapsed": false
   },
   "outputs": [],
   "source": [
    "dplot(d, timetrace_bg)"
   ]
  },
  {
   "cell_type": "code",
   "execution_count": null,
   "metadata": {
    "collapsed": false
   },
   "outputs": [],
   "source": [
    "fig, ax = default_figure()\n",
    "\n",
    "dplot(d, hist_bg_single, tmax=20e-3, ph_sel=Ph_sel(Dex='Aem'), ax=ax,\n",
    "      plot_style=dict(alpha=0.8),\n",
    "      fit_style=dict(color='k'))\n",
    "\n",
    "plt.legend(['Experim. distrib.', 'Exponential fit'])\n",
    "plt.xlim(0, 15)\n",
    "plt.xlabel(u'Timestamp waiting time (ms)')\n",
    "plt.ylabel(\"# Waiting times\")\n",
    "#plt.title('')\n",
    "#savefig('ph_delays_distrib1.png')"
   ]
  },
  {
   "cell_type": "code",
   "execution_count": null,
   "metadata": {
    "collapsed": false
   },
   "outputs": [],
   "source": [
    "fig, ax = default_figure()\n",
    "\n",
    "dplot(d, hist_bg, ax=ax)\n",
    "\n",
    "plt.legend(bbox_to_anchor=(1.04, 0.9), loc=2, fontsize=12)\n",
    "#plt.title('')\n",
    "savefig('ph_delays_distrib_all.png')"
   ]
  },
  {
   "cell_type": "code",
   "execution_count": null,
   "metadata": {
    "collapsed": false
   },
   "outputs": [],
   "source": [
    "d.burst_search()"
   ]
  },
  {
   "cell_type": "code",
   "execution_count": null,
   "metadata": {
    "collapsed": false
   },
   "outputs": [],
   "source": [
    "ds = d.select_bursts(select_bursts.size, th1=15)\n",
    "ds2 = ds.select_bursts(select_bursts.naa, th1=15)"
   ]
  },
  {
   "cell_type": "code",
   "execution_count": null,
   "metadata": {
    "collapsed": false
   },
   "outputs": [],
   "source": [
    "sns.palplot(sns.color_palette('RdYlBu_r', 12))"
   ]
  },
  {
   "cell_type": "code",
   "execution_count": null,
   "metadata": {
    "collapsed": false,
    "scrolled": false
   },
   "outputs": [],
   "source": [
    "for cmap in ['YlGnBu_r', 'RdYlBu_r', 'Spectral_r', 'viridis']:\n",
    "    plt.figure()\n",
    "    c = sns.color_palette(cmap, 12)[1]\n",
    "    g = alex_jointplot(ds, cmap=cmap,\n",
    "                       marginal_kws=dict(hist_bar_style=dict(facecolor=c, edgecolor='k', linewidth=0.2)));\n",
    "    g.ax_joint.text(-0.1, 1.1, cmap)\n",
    "    savefig"
   ]
  },
  {
   "cell_type": "code",
   "execution_count": null,
   "metadata": {
    "collapsed": false
   },
   "outputs": [],
   "source": [
    "cmap = 'RdYlBu_r' #'Spectral_r'\n",
    "c = sns.color_palette(cmap, 12)[1]\n",
    "kwargs = dict(cmap=cmap, \n",
    "              marginal_kws=dict(hist_bar_style=dict(facecolor=c, edgecolor='k', linewidth=0.2)))\n",
    "alex_jointplot(ds, **kwargs)\n",
    "alex_jointplot(ds2,**kwargs)"
   ]
  },
  {
   "cell_type": "code",
   "execution_count": null,
   "metadata": {
    "collapsed": true
   },
   "outputs": [],
   "source": [
    "# nb_dir = '/Users/anto/Google Drive/notebooks/'\n",
    "# file_name = nb_dir + 'multispot/8spot_paper/data/2012-11-26/004_dsDNA_17d_green100u_red40u.hdf5'\n",
    "\n",
    "# d = loader.photon_hdf5(file_name)\n",
    "\n",
    "# plot_alternation_hist(d)\n",
    "\n",
    "# loader.alex_apply_period(d)"
   ]
  },
  {
   "cell_type": "code",
   "execution_count": null,
   "metadata": {
    "collapsed": false
   },
   "outputs": [],
   "source": [
    "import os\n",
    "nb_dir = '/Users/anto/Google Drive/notebooks/'\n",
    "data_dir = nb_dir + 'multispot/8spot_paper/data/2012-11-26/'\n",
    "\n",
    "data_dir = os.path.abspath(data_dir) + '/'\n",
    "assert os.path.exists(data_dir), \"Path '%s' does not exist.\" % data_dir\n",
    "\n",
    "from glob import glob\n",
    "file_list = sorted(f for f in glob(data_dir + '*.hdf5') if '_BKG' not in f)\n",
    "file_list"
   ]
  },
  {
   "cell_type": "code",
   "execution_count": null,
   "metadata": {
    "collapsed": false
   },
   "outputs": [],
   "source": [
    "## Selection for POLIMI 2012-11-26 datatset\n",
    "labels = ['17d', '27d', '7d', '12d', '22d']\n",
    "files_dict = {lab: fname for lab, fname in zip(labels, file_list)}\n",
    "\n",
    "file_name = files_dict['27d']\n",
    "file_name"
   ]
  },
  {
   "cell_type": "code",
   "execution_count": null,
   "metadata": {
    "collapsed": false
   },
   "outputs": [],
   "source": [
    "phc.hdf5._check_version(files_dict['17d'])"
   ]
  },
  {
   "cell_type": "code",
   "execution_count": null,
   "metadata": {
    "collapsed": false
   },
   "outputs": [],
   "source": [
    "dd = {k: loader.photon_hdf5(v) for k, v in files_dict.items()}\n",
    "for d in dd.values():\n",
    "    loader.usalex_apply_period(d)\n",
    "    d.calc_bg(bg.exp_fit, time_s=30, tail_min_us='auto', F_bg=1.7)"
   ]
  },
  {
   "cell_type": "code",
   "execution_count": null,
   "metadata": {
    "collapsed": false
   },
   "outputs": [],
   "source": [
    "dd.keys()"
   ]
  },
  {
   "cell_type": "code",
   "execution_count": null,
   "metadata": {
    "collapsed": false
   },
   "outputs": [],
   "source": [
    "fig, ax = plt.subplots(1, 2, figsize=(figure_size[0]*2, figure_size[1]), sharey=True)\n",
    "\n",
    "dplot(d, timetrace_bg, ax=ax[0])\n",
    "dplot(dd['17d'], timetrace_bg, ax=ax[1])\n",
    "\n",
    "plt.legend(['All-ph', 'DexDem', 'DexAem', 'AexAem'],\n",
    "           #bbox_to_anchor=(1.04, 0.9), \n",
    "           ncol=2, loc='upper left', fontsize=12)\n",
    "\n",
    "ax[0].legend([])\n",
    "ax[0].set_ylim(0, 5)\n",
    "ax[1].set_ylabel('')\n",
    "ax[0].set_title('(a)')\n",
    "ax[1].set_title('(b)')\n",
    "savefig('background_timetrace')"
   ]
  },
  {
   "cell_type": "code",
   "execution_count": null,
   "metadata": {
    "collapsed": true
   },
   "outputs": [],
   "source": [
    "def hist_bg_single(d, i=0, period=0, binwidth=1e-4, bins=None, tmax=0.01,\n",
    "                   ph_sel=Ph_sel('all'), show_fit=True, yscale='log',\n",
    "                   manual_rate=None, manual_tau_th=500,\n",
    "                   xscale='linear', plot_style=None, fit_style=None):\n",
    "    \"\"\"Plot histogram of photon interval for a single photon streams.\n",
    "\n",
    "    Optionally plots the fitted background.\n",
    "    \"\"\"\n",
    "\n",
    "    # If `bins` is not passed or is a scalar create the `bins` array\n",
    "    if bins is None:\n",
    "        bins = np.arange(0, tmax + binwidth, binwidth)\n",
    "    elif np.size(bins) == 1:\n",
    "        warnings.warn('`bins` is a scalar, `tmax` will be ignored.')\n",
    "        bins = np.arange(0, bins*binwidth, binwidth)\n",
    "    t_ax = bins[:-1] + 0.5*binwidth\n",
    "\n",
    "    # Compute histograms\n",
    "    ph_times_period = d.get_ph_times_period(ich=i, period=period,\n",
    "                                            ph_sel=ph_sel)\n",
    "    delta_ph_t_period = np.diff(ph_times_period)*d.clk_p\n",
    "    counts, _ = np.histogram(delta_ph_t_period, bins=bins)\n",
    "\n",
    "    # Max index with counts > 0\n",
    "    n_trim = np.trim_zeros(counts).size + 1\n",
    "\n",
    "    # Plot histograms\n",
    "    plot_style_ = dict(marker='o', markersize=5, linestyle='none', alpha=0.6)\n",
    "    if ph_sel in bpl._ph_sel_color_dict:\n",
    "        plot_style_['color'] = bpl._ph_sel_color_dict[ph_sel]\n",
    "        plot_style_['label'] = repr(ph_sel)\n",
    "    plot_style_.update(bpl._normalize_kwargs(plot_style, kind='line2d'))\n",
    "    plot(t_ax[:n_trim]*1e3, counts[:n_trim], **plot_style_)\n",
    "\n",
    "    if show_fit or manual_rate is not None:\n",
    "        # Compute the fit function\n",
    "        if manual_rate is not None:\n",
    "            bg_rate = manual_rate\n",
    "            tau_th = manual_tau_th*1e-6\n",
    "        else:\n",
    "            bg_rate = d.bg_from(ph_sel)[i][period]\n",
    "            tau_th = d.bg_th_us[ph_sel][i]*1e-6\n",
    "\n",
    "        i_tau_th = np.searchsorted(t_ax, tau_th)\n",
    "        counts_integral = counts[i_tau_th:].sum()\n",
    "        y_fit = np.exp(- t_ax * bg_rate)\n",
    "        y_fit *= counts_integral/y_fit[i_tau_th:].sum()\n",
    "\n",
    "        # Plot\n",
    "        fit_style_ = dict(plot_style_)\n",
    "        fit_style_.update(linestyle='-', marker='', label='auto')\n",
    "        fit_style_.update(bpl._normalize_kwargs(fit_style, kind='line2d'))\n",
    "        if fit_style_['label'] is 'auto':\n",
    "            fit_style_['label'] = '%s, %.2f kcps' % (plot_style_['label'],\n",
    "                                                     bg_rate*1e-3)\n",
    "        plot(t_ax[:n_trim]*1e3, y_fit[:n_trim], **fit_style_)\n",
    "\n",
    "    if yscale == 'log':\n",
    "        gca().set_yscale(yscale)\n",
    "        plt.ylim(1)\n",
    "        bpl._plot_status['hist_bg_single'] = {'autoscale': False}\n",
    "    if xscale == 'log':\n",
    "        gca().set_xscale(yscale)\n",
    "        plt.xlim(0.5*binwidth)\n",
    "        bpl._plot_status['hist_bg_single'] = {'autoscale': False}\n",
    "    plt.xlabel('Inter-photon delay (ms)')\n",
    "    plt.ylabel(\"counts\")\n",
    "\n",
    "def hist_bg(d, i=0, period=0, binwidth=1e-4, bins=None, tmax=0.01,\n",
    "            show_da=False, show_fit=True, yscale='log', xscale='linear',\n",
    "            plot_style=None, fit_style=None, legend=True):\n",
    "    \"\"\"Plot histogram of photon interval for different photon streams.\n",
    "\n",
    "    Optionally plots the fitted background.\n",
    "    \"\"\"\n",
    "    # Plot multiple timetraces\n",
    "    ph_sel_list = [Ph_sel('all'), Ph_sel(Dex='Dem'), Ph_sel(Dex='Aem')]\n",
    "    if d.ALEX:\n",
    "         ph_sel_list.append(Ph_sel(Aex='Aem'))\n",
    "         if show_da:\n",
    "             ph_sel_list.append(Ph_sel(Aex='Dem'))\n",
    "\n",
    "    for ix, ph_sel in enumerate(ph_sel_list):\n",
    "        if not bl.mask_empty(d.get_ph_mask(i, ph_sel=ph_sel)):\n",
    "            hist_bg_single(d, i=i, period=period, binwidth=binwidth,\n",
    "                           bins=bins, tmax=tmax, ph_sel=ph_sel,\n",
    "                           show_fit=show_fit, yscale=yscale, xscale=xscale,\n",
    "                           plot_style=plot_style, fit_style=fit_style)\n",
    "    if legend:\n",
    "        plt.legend(loc='best', fancybox=True)\n",
    "\n",
    "    if yscale == 'log' or xscale == 'log':\n",
    "        bpl._plot_status['hist_bg'] = {'autoscale': False}"
   ]
  },
  {
   "cell_type": "code",
   "execution_count": null,
   "metadata": {
    "collapsed": false
   },
   "outputs": [],
   "source": [
    "fig, ax = default_figure()\n",
    "\n",
    "dplot(dd['12d'], hist_bg_single, \n",
    "      tmax=20e-3, binwidth=1e-4, ph_sel=Ph_sel(Dex='Aem'),\n",
    "      plot_style=dict(alpha=0.8),\n",
    "      fit_style=dict(color='k'), ax=ax)\n",
    "\n",
    "plt.legend(['Experim. distrib.', 'Exponential fit'])\n",
    "\n",
    "plt.xlabel(u'Timestamp waiting time (ms)')\n",
    "plt.ylabel(\"# Waiting times\")\n",
    "#plt.xscale('log')\n",
    "plt.xlim(1e-1, 10)\n",
    "#plt.title('')\n",
    "savefig('ph_delays_distrib1.png')"
   ]
  },
  {
   "cell_type": "code",
   "execution_count": null,
   "metadata": {
    "collapsed": false
   },
   "outputs": [],
   "source": [
    "repr(Ph_sel('all'))"
   ]
  },
  {
   "cell_type": "code",
   "execution_count": null,
   "metadata": {
    "collapsed": true
   },
   "outputs": [],
   "source": [
    "d.bg"
   ]
  },
  {
   "cell_type": "code",
   "execution_count": null,
   "metadata": {
    "collapsed": false
   },
   "outputs": [],
   "source": [
    "fig, ax = default_figure()\n",
    "\n",
    "dplot(dd['12d'], hist_bg, tmax=0.05, binwidth=2e-4, ax=ax, plot_style=dict(label=None))\n",
    "\n",
    "plt.legend(bbox_to_anchor=(1.04, 0.9), loc=2, fontsize=12)\n",
    "plt.xlim(0,15)\n",
    "#plt.title('')\n",
    "savefig('ph_delays_distrib_all.png')"
   ]
  },
  {
   "cell_type": "code",
   "execution_count": null,
   "metadata": {
    "collapsed": false
   },
   "outputs": [],
   "source": [
    "d.burst_search(F=6, m=10, ph_sel=Ph_sel('all'))"
   ]
  },
  {
   "cell_type": "code",
   "execution_count": null,
   "metadata": {
    "collapsed": true
   },
   "outputs": [],
   "source": [
    "ds = d.select_bursts(select_bursts.size, th1=30, add_naa=True)"
   ]
  },
  {
   "cell_type": "code",
   "execution_count": null,
   "metadata": {
    "collapsed": true
   },
   "outputs": [],
   "source": [
    "dsh = ds.select_bursts(select_bursts.S, S1=0.25, S2=0.75)"
   ]
  },
  {
   "cell_type": "code",
   "execution_count": null,
   "metadata": {
    "collapsed": false
   },
   "outputs": [],
   "source": [
    "ds1 = d.select_bursts(select_bursts.size, th1=15)"
   ]
  },
  {
   "cell_type": "code",
   "execution_count": null,
   "metadata": {
    "collapsed": true
   },
   "outputs": [],
   "source": [
    "ds2 = ds1.select_bursts(select_bursts.naa, th1=15)"
   ]
  },
  {
   "cell_type": "code",
   "execution_count": null,
   "metadata": {
    "collapsed": false
   },
   "outputs": [],
   "source": [
    "alex_jointplot(ds)\n",
    "#savefig('alex_jointplot')"
   ]
  },
  {
   "cell_type": "code",
   "execution_count": null,
   "metadata": {
    "collapsed": false
   },
   "outputs": [],
   "source": [
    "alex_jointplot(dsh)\n",
    "savefig('alex_jointplot')"
   ]
  },
  {
   "cell_type": "code",
   "execution_count": null,
   "metadata": {
    "collapsed": false
   },
   "outputs": [],
   "source": [
    "alex_jointplot(ds1)\n",
    "#savefig('alex_jointplot_noAO')"
   ]
  },
  {
   "cell_type": "code",
   "execution_count": null,
   "metadata": {
    "collapsed": false
   },
   "outputs": [],
   "source": [
    "alex_jointplot(ds2)\n",
    "savefig('alex_jointplot_fretsel')"
   ]
  },
  {
   "cell_type": "code",
   "execution_count": null,
   "metadata": {
    "collapsed": true
   },
   "outputs": [],
   "source": []
  },
  {
   "cell_type": "code",
   "execution_count": null,
   "metadata": {
    "collapsed": true
   },
   "outputs": [],
   "source": []
  },
  {
   "cell_type": "code",
   "execution_count": null,
   "metadata": {
    "collapsed": true
   },
   "outputs": [],
   "source": []
  },
  {
   "cell_type": "code",
   "execution_count": null,
   "metadata": {
    "collapsed": true
   },
   "outputs": [],
   "source": []
  },
  {
   "cell_type": "code",
   "execution_count": null,
   "metadata": {
    "collapsed": false
   },
   "outputs": [],
   "source": []
  },
  {
   "cell_type": "markdown",
   "metadata": {},
   "source": [
    "# Multi-spot"
   ]
  },
  {
   "cell_type": "code",
   "execution_count": null,
   "metadata": {
    "collapsed": false
   },
   "outputs": [],
   "source": [
    "url = 'http://files.figshare.com/1839122/12d_New_30p_320mW_steer_3.hdf5'\n",
    "download_file(url, save_dir='./data')"
   ]
  },
  {
   "cell_type": "code",
   "execution_count": null,
   "metadata": {
    "collapsed": false
   },
   "outputs": [],
   "source": [
    "file_name = './data/' + url.split('/')[-1]\n",
    "file_name"
   ]
  },
  {
   "cell_type": "code",
   "execution_count": null,
   "metadata": {
    "collapsed": false
   },
   "outputs": [],
   "source": [
    "d = loader.photon_hdf5(file_name)"
   ]
  },
  {
   "cell_type": "code",
   "execution_count": null,
   "metadata": {
    "collapsed": false
   },
   "outputs": [],
   "source": [
    "timestamps = d.ph_times_m[0]\n",
    "acceptor_mask = d.A_em[0]"
   ]
  },
  {
   "cell_type": "code",
   "execution_count": null,
   "metadata": {
    "collapsed": false
   },
   "outputs": [],
   "source": [
    "d2 = Data(ph_times_m=[timestamps], A_em=[acceptor_mask], \n",
    "         clk_p=10e-9, ALEX=False, nch=1, fname='')"
   ]
  },
  {
   "cell_type": "code",
   "execution_count": null,
   "metadata": {
    "collapsed": false
   },
   "outputs": [],
   "source": [
    "d.calc_bg(bg.exp_fit, time_s=20, tail_min_us='auto', F_bg=1.7)"
   ]
  },
  {
   "cell_type": "code",
   "execution_count": null,
   "metadata": {
    "collapsed": false
   },
   "outputs": [],
   "source": [
    "dplot(d, timetrace_bg);"
   ]
  },
  {
   "cell_type": "code",
   "execution_count": null,
   "metadata": {
    "collapsed": false
   },
   "outputs": [],
   "source": [
    "d2.burst_search_t()"
   ]
  },
  {
   "cell_type": "code",
   "execution_count": null,
   "metadata": {
    "collapsed": false
   },
   "outputs": [],
   "source": [
    "dplot(d2, hist_fret)"
   ]
  }
 ],
 "metadata": {
  "kernelspec": {
   "display_name": "Python 3",
   "language": "python",
   "name": "python3"
  },
  "language_info": {
   "codemirror_mode": {
    "name": "ipython",
    "version": 3
   },
   "file_extension": ".py",
   "mimetype": "text/x-python",
   "name": "python",
   "nbconvert_exporter": "python",
   "pygments_lexer": "ipython3",
   "version": "3.5.1"
  }
 },
 "nbformat": 4,
 "nbformat_minor": 0
}
